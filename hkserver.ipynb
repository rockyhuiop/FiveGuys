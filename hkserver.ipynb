{
  "nbformat": 4,
  "nbformat_minor": 0,
  "metadata": {
    "colab": {
      "provenance": []
    },
    "kernelspec": {
      "name": "python3",
      "display_name": "Python 3"
    },
    "language_info": {
      "name": "python"
    }
  },
  "cells": [
    {
      "cell_type": "code",
      "source": [
        "pip install flask-ngrok\n"
      ],
      "metadata": {
        "colab": {
          "base_uri": "https://localhost:8080/",
          "height": 142
        },
        "id": "AUAvrekrL5Yg",
        "outputId": "2f41f029-71ca-489b-c535-a6980044b2c2"
      },
      "execution_count": 5,
      "outputs": [
        {
          "output_type": "error",
          "ename": "SyntaxError",
          "evalue": "ignored",
          "traceback": [
            "\u001b[0;36m  File \u001b[0;32m\"<ipython-input-5-2b755190b8e5>\"\u001b[0;36m, line \u001b[0;32m1\u001b[0m\n\u001b[0;31m    pip install flask-ngrok\u001b[0m\n\u001b[0m        ^\u001b[0m\n\u001b[0;31mSyntaxError\u001b[0m\u001b[0;31m:\u001b[0m invalid syntax\n"
          ]
        }
      ]
    },
    {
      "cell_type": "code",
      "source": [
        "pip install flask"
      ],
      "metadata": {
        "colab": {
          "base_uri": "https://localhost:8080/"
        },
        "id": "uGR7W5F4Mimr",
        "outputId": "29e86693-74cb-4c2b-d74f-0004c968517b"
      },
      "execution_count": 6,
      "outputs": [
        {
          "output_type": "stream",
          "name": "stdout",
          "text": [
            "Requirement already satisfied: flask in /usr/local/lib/python3.10/dist-packages (2.2.5)\n",
            "Requirement already satisfied: Werkzeug>=2.2.2 in /usr/local/lib/python3.10/dist-packages (from flask) (3.0.1)\n",
            "Requirement already satisfied: Jinja2>=3.0 in /usr/local/lib/python3.10/dist-packages (from flask) (3.1.2)\n",
            "Requirement already satisfied: itsdangerous>=2.0 in /usr/local/lib/python3.10/dist-packages (from flask) (2.1.2)\n",
            "Requirement already satisfied: click>=8.0 in /usr/local/lib/python3.10/dist-packages (from flask) (8.1.7)\n",
            "Requirement already satisfied: MarkupSafe>=2.0 in /usr/local/lib/python3.10/dist-packages (from Jinja2>=3.0->flask) (2.1.3)\n"
          ]
        }
      ]
    },
    {
      "cell_type": "code",
      "source": [
        "!pip install pyngrok==4.1.1\n",
        "!ngrok authtoken '2YMiNnfmArjJUnnys3BiaF0SVFf_48mirumaQZDQxLM7euorY'"
      ],
      "metadata": {
        "colab": {
          "base_uri": "https://localhost:8080/"
        },
        "id": "cciSUWa1SXhO",
        "outputId": "69bc1b30-7571-4ab0-8271-a33ea7b1db0f"
      },
      "execution_count": 10,
      "outputs": [
        {
          "output_type": "stream",
          "name": "stdout",
          "text": [
            "Requirement already satisfied: pyngrok==4.1.1 in /usr/local/lib/python3.10/dist-packages (4.1.1)\n",
            "Requirement already satisfied: future in /usr/local/lib/python3.10/dist-packages (from pyngrok==4.1.1) (0.18.3)\n",
            "Requirement already satisfied: PyYAML in /usr/local/lib/python3.10/dist-packages (from pyngrok==4.1.1) (6.0.1)\n",
            "Authtoken saved to configuration file: /root/.ngrok2/ngrok.yml\n"
          ]
        }
      ]
    },
    {
      "cell_type": "code",
      "source": [
        "!git clone https://github.com/CMU-Perceptual-Computing-Lab/openpose.git"
      ],
      "metadata": {
        "colab": {
          "base_uri": "https://localhost:8080/"
        },
        "id": "hn-GBo1Ydla_",
        "outputId": "17de820e-d3eb-4f8f-d1f4-f1271d01e728"
      },
      "execution_count": 37,
      "outputs": [
        {
          "output_type": "stream",
          "name": "stdout",
          "text": [
            "Cloning into 'openpose'...\n",
            "remote: Enumerating objects: 16111, done.\u001b[K\n",
            "remote: Counting objects: 100% (22/22), done.\u001b[K\n",
            "remote: Compressing objects: 100% (20/20), done.\u001b[K\n",
            "remote: Total 16111 (delta 6), reused 13 (delta 2), pack-reused 16089\u001b[K\n",
            "Receiving objects: 100% (16111/16111), 84.45 MiB | 14.22 MiB/s, done.\n",
            "Resolving deltas: 100% (11286/11286), done.\n",
            "Updating files: 100% (582/582), done.\n"
          ]
        }
      ]
    },
    {
      "cell_type": "code",
      "source": [
        "%cd openpose/\n",
        "!git submodule update --init --recursive --remote\n"
      ],
      "metadata": {
        "colab": {
          "base_uri": "https://localhost:8080/"
        },
        "id": "wGK4G-3heXLI",
        "outputId": "c17fe6ea-43e8-47aa-a388-9fb946cd2ca4"
      },
      "execution_count": 39,
      "outputs": [
        {
          "output_type": "stream",
          "name": "stdout",
          "text": [
            "/content/drive/MyDrive/hk/openpose\n",
            "Submodule '3rdparty/caffe' (https://github.com/CMU-Perceptual-Computing-Lab/caffe.git) registered for path '3rdparty/caffe'\n",
            "Submodule '3rdparty/pybind11' (https://github.com/pybind/pybind11.git) registered for path '3rdparty/pybind11'\n",
            "Cloning into '/content/drive/MyDrive/hk/openpose/3rdparty/caffe'...\n",
            "Cloning into '/content/drive/MyDrive/hk/openpose/3rdparty/pybind11'...\n",
            "Submodule path '3rdparty/caffe': checked out '2d4bf549aabf97265f76b9599b82540dde9218ed'\n",
            "Submodule path '3rdparty/pybind11': checked out 'dc9b39596d986aeb061bd3debe52d30e2467dc48'\n"
          ]
        }
      ]
    },
    {
      "cell_type": "code",
      "source": [
        "%cd"
      ],
      "metadata": {
        "id": "fWe7zVLPfr3E"
      },
      "execution_count": null,
      "outputs": []
    },
    {
      "cell_type": "code",
      "execution_count": 36,
      "metadata": {
        "id": "0f_43hqNKejt",
        "colab": {
          "base_uri": "https://localhost:8080/"
        },
        "outputId": "92b973fd-aeb2-444a-a145-b4be31c95fbe"
      },
      "outputs": [
        {
          "output_type": "stream",
          "name": "stdout",
          "text": [
            "/content/drive/MyDrive/hk\n",
            "/content/drive/MyDrive/hk\n",
            " * Serving Flask app '__main__'\n",
            " * Debug mode: off\n"
          ]
        },
        {
          "output_type": "stream",
          "name": "stderr",
          "text": [
            "INFO:werkzeug:\u001b[31m\u001b[1mWARNING: This is a development server. Do not use it in a production deployment. Use a production WSGI server instead.\u001b[0m\n",
            " * Running on http://127.0.0.1:5000\n",
            "INFO:werkzeug:\u001b[33mPress CTRL+C to quit\u001b[0m\n"
          ]
        },
        {
          "output_type": "stream",
          "name": "stdout",
          "text": [
            " * Running on http://892f-34-106-180-69.ngrok-free.app\n",
            " * Traffic stats available on http://127.0.0.1:4040\n"
          ]
        },
        {
          "output_type": "stream",
          "name": "stderr",
          "text": [
            "INFO:werkzeug:127.0.0.1 - - [18/Nov/2023 22:00:24] \"GET / HTTP/1.1\" 200 -\n",
            "INFO:werkzeug:127.0.0.1 - - [18/Nov/2023 22:00:25] \"\u001b[33mGET /favicon.ico HTTP/1.1\u001b[0m\" 404 -\n",
            "INFO:werkzeug:127.0.0.1 - - [18/Nov/2023 22:00:31] \"\u001b[32mPOST /upload HTTP/1.1\u001b[0m\" 302 -\n"
          ]
        },
        {
          "output_type": "stream",
          "name": "stdout",
          "text": [
            "<Request 'http://892f-34-106-180-69.ngrok-free.app/upload' [POST]>\n",
            "tttt_rendered.png\n"
          ]
        },
        {
          "output_type": "stream",
          "name": "stderr",
          "text": [
            "/usr/local/lib/python3.10/dist-packages/sklearn/base.py:318: UserWarning: Trying to unpickle estimator SVC from version 1.3.0 when using version 1.2.2. This might lead to breaking code or invalid results. Use at your own risk. For more info please refer to:\n",
            "https://scikit-learn.org/stable/model_persistence.html#security-maintainability-limitations\n",
            "  warnings.warn(\n",
            "INFO:werkzeug:127.0.0.1 - - [18/Nov/2023 22:00:31] \"GET /predict%3FimageName=tttt_rendered.png HTTP/1.1\" 200 -\n"
          ]
        },
        {
          "output_type": "stream",
          "name": "stdout",
          "text": [
            "[1]\n"
          ]
        }
      ],
      "source": [
        "%cd /content/drive/MyDrive/hk\n",
        "\n",
        "\n",
        "from flask_ngrok import run_with_ngrok\n",
        "from flask import Flask, render_template, request, url_for, redirect\n",
        "from werkzeug.utils import secure_filename\n",
        "import os\n",
        "from sklearn import svm\n",
        "from sklearn.model_selection import train_test_split\n",
        "from sklearn import metrics\n",
        "import matplotlib.pyplot as plt\n",
        "import numpy as np\n",
        "import os\n",
        "from PIL import Image\n",
        "import joblib as jl\n",
        "\n",
        "app = Flask(__name__,template_folder='./')\n",
        "run_with_ngrok(app)\n",
        "app.config[\"IMAGE_UPLOADS\"] = \"./test\"\n",
        "print(os.getcwd())\n",
        "\n",
        "@app.route(\"/\")\n",
        "def home():\n",
        "  return render_template(\"./index.html\")\n",
        "\n",
        "@app.route(\"/upload\", methods=[\"POST\"])\n",
        "def upload():\n",
        "  print(request)\n",
        "  if request.method == \"POST\":\n",
        "    if request.files:\n",
        "      f = request.files['image']\n",
        "      print(f.filename)\n",
        "      predict_filepath = os.path.join(app.config[\"IMAGE_UPLOADS\"], f.filename)\n",
        "      f.save(predict_filepath)\n",
        "      return redirect(url_for('predict', predict_file_name = f.filename))\n",
        "    return render_template(\"./index.html\")\n",
        "\n",
        "\n",
        "@app.route('/predict?imageName=<predict_file_name>')\n",
        "def predict(predict_file_name):\n",
        "        image = Image.open(\"test/\"+predict_file_name)\n",
        "        image = image.resize((64, 64))  # Resize the image\n",
        "        image = np.array(image)\n",
        "        image = image.flatten()  # Flatten the image\n",
        "        clf = jl.load('model.pkl')\n",
        "        labels_pred = clf.predict([image])\n",
        "        print(labels_pred)\n",
        "        if labels_pred[0]:\n",
        "            return '<html><body><h1>your action is correct</h1></body></html>'\n",
        "        else:\n",
        "            return '<html><body><h1>your action is not good</h1></body></html>'\n",
        "\n",
        "\n",
        "\n",
        "\n",
        "\n",
        "app.run()\n",
        "\n",
        "\n",
        "\n"
      ]
    }
  ]
}